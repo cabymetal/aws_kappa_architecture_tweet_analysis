{
 "cells": [
  {
   "cell_type": "code",
   "execution_count": 67,
   "metadata": {},
   "outputs": [
    {
     "name": "stderr",
     "output_type": "stream",
     "text": [
      "[nltk_data] Downloading package punkt to /root/nltk_data...\n",
      "[nltk_data]   Package punkt is already up-to-date!\n",
      "[nltk_data] Downloading package stopwords to /root/nltk_data...\n",
      "[nltk_data]   Package stopwords is already up-to-date!\n"
     ]
    },
    {
     "data": {
      "text/plain": [
       "True"
      ]
     },
     "execution_count": 67,
     "metadata": {},
     "output_type": "execute_result"
    }
   ],
   "source": [
    "import boto3\n",
    "import pandas as pd\n",
    "import numpy as np\n",
    "from pprint import pprint\n",
    "import nltk\n",
    "import tqdm.notebook as tqdm\n",
    "import time\n",
    "import re\n",
    "import matplotlib.pyplot as plt\n",
    "nltk.download('punkt')\n",
    "nltk.download('stopwords')\n"
   ]
  },
  {
   "cell_type": "code",
   "execution_count": 68,
   "metadata": {},
   "outputs": [],
   "source": [
    "dynamo_db = boto3.resource('dynamodb')\n",
    "table = dynamo_db.Table('tweets_for_sentiment') #just testing querys\n",
    "athena = boto3.client('athena')"
   ]
  },
  {
   "cell_type": "code",
   "execution_count": 69,
   "metadata": {},
   "outputs": [
    {
     "data": {
      "application/vnd.jupyter.widget-view+json": {
       "model_id": "7242092be49d40779bfe4fd19a266dfb",
       "version_major": 2,
       "version_minor": 0
      },
      "text/plain": [
       "HBox(children=(FloatProgress(value=0.0, max=120.0), HTML(value='')))"
      ]
     },
     "metadata": {},
     "output_type": "display_data"
    },
    {
     "name": "stdout",
     "output_type": "stream",
     "text": [
      "\n"
     ]
    }
   ],
   "source": [
    "\n",
    "\n",
    "params = {\n",
    "    'region': 'us-east-1',\n",
    "    'database': 'kinesis',\n",
    "    'bucket': 'cmurill5',\n",
    "    'path': 'athena_results/',\n",
    "    'query': 'SELECT tweet_id, user_name, text FROM \"kinesis\".\"tweets_json\";' #for academic purposes only\n",
    "}\n",
    "\n",
    "\n",
    "response_query_execution_id  = athena.start_query_execution(\n",
    "    QueryString = params['query'],\n",
    "    QueryExecutionContext = {\n",
    "        'Database' : params['database']\n",
    "    },\n",
    "    ResultConfiguration = {\n",
    "        'OutputLocation': 's3://' + params['bucket'] + '/' + params['path']\n",
    "    }\n",
    ")\n",
    "response_get_query_details = athena.get_query_execution(\n",
    "    QueryExecutionId = response_query_execution_id['QueryExecutionId']\n",
    ")\n",
    "\n",
    "\n",
    "for i in tqdm.tqdm(range(120)):\n",
    "    response_get_query_details = athena.get_query_execution(\n",
    "        QueryExecutionId = response_query_execution_id['QueryExecutionId']\n",
    "    )\n",
    "    status = response_get_query_details['QueryExecution']['Status']['State']\n",
    "            \n",
    "    if (status == 'FAILED') or (status == 'CANCELLED') :\n",
    "        failure_reason = response_get_query_details['QueryExecution']['Status']['StateChangeReason']\n",
    "    time.sleep(1)\n",
    "\n",
    "\n",
    "\n"
   ]
  },
  {
   "cell_type": "code",
   "execution_count": 70,
   "metadata": {},
   "outputs": [],
   "source": [
    "response_query_result = athena.get_query_results(\n",
    "    QueryExecutionId = response_query_execution_id['QueryExecutionId']\n",
    ")\n",
    "\n",
    "result_data = response_query_result['ResultSet']"
   ]
  },
  {
   "cell_type": "code",
   "execution_count": 71,
   "metadata": {},
   "outputs": [],
   "source": [
    "header = response_query_result['ResultSet']['Rows'][0]\n",
    "header = [obj['VarCharValue'] for obj in header['Data']]\n"
   ]
  },
  {
   "cell_type": "code",
   "execution_count": 72,
   "metadata": {},
   "outputs": [],
   "source": [
    "rows = response_query_result['ResultSet']['Rows'][1:]\n"
   ]
  },
  {
   "cell_type": "code",
   "execution_count": 73,
   "metadata": {},
   "outputs": [
    {
     "data": {
      "text/html": [
       "<div>\n",
       "<style scoped>\n",
       "    .dataframe tbody tr th:only-of-type {\n",
       "        vertical-align: middle;\n",
       "    }\n",
       "\n",
       "    .dataframe tbody tr th {\n",
       "        vertical-align: top;\n",
       "    }\n",
       "\n",
       "    .dataframe thead th {\n",
       "        text-align: right;\n",
       "    }\n",
       "</style>\n",
       "<table border=\"1\" class=\"dataframe\">\n",
       "  <thead>\n",
       "    <tr style=\"text-align: right;\">\n",
       "      <th></th>\n",
       "      <th>tweet_id</th>\n",
       "      <th>user_name</th>\n",
       "      <th>text</th>\n",
       "    </tr>\n",
       "  </thead>\n",
       "  <tbody>\n",
       "    <tr>\n",
       "      <th>0</th>\n",
       "      <td>1457464340836143111</td>\n",
       "      <td>Francisco Cote</td>\n",
       "      <td>RT @VillamilBMauro: Alcalde @QuinteroCalle por...</td>\n",
       "    </tr>\n",
       "    <tr>\n",
       "      <th>1</th>\n",
       "      <td>1457565781747802114</td>\n",
       "      <td>Saiso ?? llorando</td>\n",
       "      <td>RT @eLPeritaAFK: El mejor alcalde @JuanSGuarni...</td>\n",
       "    </tr>\n",
       "    <tr>\n",
       "      <th>2</th>\n",
       "      <td>1457565785614917635</td>\n",
       "      <td>JPAS1979</td>\n",
       "      <td>\"RT @santiagoangelp: ?Que hacian divisiones de...</td>\n",
       "    </tr>\n",
       "    <tr>\n",
       "      <th>3</th>\n",
       "      <td>1457565809795084289</td>\n",
       "      <td>Daniel Hernandez</td>\n",
       "      <td>RT @Vidales2Luis: En medellin, dirigentes de @...</td>\n",
       "    </tr>\n",
       "    <tr>\n",
       "      <th>4</th>\n",
       "      <td>1457565837653528584</td>\n",
       "      <td>@Pilar Blas</td>\n",
       "      <td>RT @Ccarhua2: Como una bestia atacando a mujer...</td>\n",
       "    </tr>\n",
       "  </tbody>\n",
       "</table>\n",
       "</div>"
      ],
      "text/plain": [
       "              tweet_id          user_name  \\\n",
       "0  1457464340836143111     Francisco Cote   \n",
       "1  1457565781747802114  Saiso ?? llorando   \n",
       "2  1457565785614917635           JPAS1979   \n",
       "3  1457565809795084289   Daniel Hernandez   \n",
       "4  1457565837653528584        @Pilar Blas   \n",
       "\n",
       "                                                text  \n",
       "0  RT @VillamilBMauro: Alcalde @QuinteroCalle por...  \n",
       "1  RT @eLPeritaAFK: El mejor alcalde @JuanSGuarni...  \n",
       "2  \"RT @santiagoangelp: ?Que hacian divisiones de...  \n",
       "3  RT @Vidales2Luis: En medellin, dirigentes de @...  \n",
       "4  RT @Ccarhua2: Como una bestia atacando a mujer...  "
      ]
     },
     "execution_count": 73,
     "metadata": {},
     "output_type": "execute_result"
    }
   ],
   "source": [
    "# crear datos\n",
    "\n",
    "result = []\n",
    "for row in rows:\n",
    "    new_data = []\n",
    "    for obj in row['Data']:\n",
    "        if 'VarCharValue' in obj:\n",
    "            new_data.append(obj['VarCharValue'])    \n",
    "        else:\n",
    "            new_data.append('')\n",
    "    \n",
    "    result.append(dict(zip(header,new_data)))\n",
    "#crear dataframe\n",
    "\n",
    "df = pd.DataFrame(result)\n",
    "df.head()"
   ]
  },
  {
   "cell_type": "code",
   "execution_count": 74,
   "metadata": {},
   "outputs": [],
   "source": [
    "df['tokens'] = df['text'].apply(lambda x: nltk.word_tokenize(str(x)))\n",
    "all_tokens = []\n",
    "for t in df['tokens']:\n",
    "    all_tokens.extend(t)\n",
    "    \n",
    "\n",
    "from nltk.corpus import stopwords\n",
    "stop_words_nltk = set(stopwords.words('spanish'))\n",
    "\n",
    "all_tokens = [re.sub(r'[^#A-Za-z0-9]+','',w) for w in all_tokens] #hashtag is important\n",
    "all_tokens = [ x.lower() for x in all_tokens if x.isalpha() and len(x) > 2  and  x not in stop_words_nltk]\n"
   ]
  },
  {
   "cell_type": "code",
   "execution_count": 75,
   "metadata": {},
   "outputs": [
    {
     "name": "stdout",
     "output_type": "stream",
     "text": [
      "Size BoW_content= 2531\n"
     ]
    }
   ],
   "source": [
    "# analisis de frecuencia en palabras de 'text'\n",
    "fdist = nltk.FreqDist(all_tokens)\n",
    "print('Size BoW_content=',len(fdist))\n",
    "topwordstitle = fdist.most_common(20)"
   ]
  },
  {
   "cell_type": "code",
   "execution_count": 76,
   "metadata": {},
   "outputs": [
    {
     "data": {
      "image/png": "[encoded data removed]",
      "text/plain": [
       "<Figure size 1080x720 with 1 Axes>"
      ]
     },
     "metadata": {
      "needs_background": "light"
     },
     "output_type": "display_data"
    }
   ],
   "source": [
    "x,y = zip(*topwordstitle)\n",
    "plt.figure(figsize=(15,10))\n",
    "plt.bar(x,y)\n",
    "plt.xticks(rotation=90)\n",
    "plt.show()"
   ]
  },
  {
   "cell_type": "code",
   "execution_count": 77,
   "metadata": {},
   "outputs": [],
   "source": [
    "df2 = pd.DataFrame(table.scan()['Items'])"
   ]
  },
  {
   "cell_type": "code",
   "execution_count": 78,
   "metadata": {},
   "outputs": [],
   "source": [
    "df2['tokens'] = df2['text'].apply(lambda x: nltk.word_tokenize(str(x)))\n",
    "all_tokens = []\n",
    "for t in df['tokens']:\n",
    "    all_tokens.extend(t)\n",
    "    \n",
    "\n",
    "from nltk.corpus import stopwords\n",
    "stop_words_nltk = set(stopwords.words('spanish'))\n",
    "\n",
    "all_tokens = [re.sub(r'[^#A-Za-z0-9]+','',w) for w in all_tokens] #hashtag is important\n",
    "all_tokens = [ x.lower() for x in all_tokens if x.isalpha() and len(x) > 2  and  x not in stop_words_nltk]"
   ]
  },
  {
   "cell_type": "code",
   "execution_count": 79,
   "metadata": {},
   "outputs": [
    {
     "name": "stdout",
     "output_type": "stream",
     "text": [
      "Size BoW_content= 2531\n"
     ]
    },
    {
     "data": {
      "image/png": "[encoded data removed]",
      "text/plain": [
       "<Figure size 1080x720 with 1 Axes>"
      ]
     },
     "metadata": {
      "needs_background": "light"
     },
     "output_type": "display_data"
    }
   ],
   "source": [
    "fdist = nltk.FreqDist(all_tokens)\n",
    "print('Size BoW_content=',len(fdist))\n",
    "topwordstitle = fdist.most_common(20)\n",
    "x,y = zip(*topwordstitle)\n",
    "plt.figure(figsize=(15,10))\n",
    "plt.bar(x,y)\n",
    "plt.xticks(rotation=90)\n",
    "plt.show()"
   ]
  },
  {
   "cell_type": "code",
   "execution_count": null,
   "metadata": {},
   "outputs": [],
   "source": []
  }
 ],
 "metadata": {
  "instance_type": "ml.t3.medium",
  "kernelspec": {
   "display_name": "Python 3 (Data Science)",
   "language": "python",
   "name": "python3__SAGEMAKER_INTERNAL__arn:aws:sagemaker:us-east-1:081325390199:image/datascience-1.0"
  },
  "language_info": {
   "codemirror_mode": {
    "name": "ipython",
    "version": 3
   },
   "file_extension": ".py",
   "mimetype": "text/x-python",
   "name": "python",
   "nbconvert_exporter": "python",
   "pygments_lexer": "ipython3",
   "version": "3.7.10"
  }
 },
 "nbformat": 4,
 "nbformat_minor": 4
}
